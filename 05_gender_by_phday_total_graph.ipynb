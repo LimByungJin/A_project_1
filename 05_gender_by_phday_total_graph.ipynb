{
 "cells": [
  {
   "cell_type": "code",
   "execution_count": 1,
   "id": "59066f5d",
   "metadata": {},
   "outputs": [],
   "source": [
    "import pandas as pd\n",
    "import time"
   ]
  },
  {
   "cell_type": "code",
   "execution_count": 2,
   "id": "427de40f",
   "metadata": {},
   "outputs": [
    {
     "name": "stderr",
     "output_type": "stream",
     "text": [
      "C:\\Users\\research_01\\AppData\\Local\\Temp\\61\\ipykernel_8072\\1267394010.py:3: DtypeWarning: Columns (9,10) have mixed types. Specify dtype option on import or set low_memory=False.\n",
      "  d2 = pd.read_csv('C:/Users/research_01/pytorch/A_Project_1/by_date/data/이용정보/서울특별시 공공자전거 이용정보(시간대별)_2307-2312.csv')\n"
     ]
    },
    {
     "name": "stdout",
     "output_type": "stream",
     "text": [
      "3.31\n"
     ]
    }
   ],
   "source": [
    "start_time = time.time()\n",
    "d1 = pd.read_csv('C:/Users/research_01/pytorch/A_Project_1/by_date/data/이용정보/서울특별시 공공자전거 이용정보(시간대별)_2301-2306.csv')\n",
    "d2 = pd.read_csv('C:/Users/research_01/pytorch/A_Project_1/by_date/data/이용정보/서울특별시 공공자전거 이용정보(시간대별)_2307-2312.csv')\n",
    "d3 = pd.read_csv('C:/Users/research_01/pytorch/A_Project_1/by_date/data/이용정보/서울특별시 공공자전거 이용정보(시간대별)_2401-2405.csv')\n",
    "tmp_data = pd.concat([d1, d2, d3], ignore_index=True)\n",
    "print(round((time.time() - start_time)/60, 2))"
   ]
  },
  {
   "cell_type": "code",
   "execution_count": 3,
   "id": "2200bc59",
   "metadata": {},
   "outputs": [
    {
     "name": "stdout",
     "output_type": "stream",
     "text": [
      "55032314 37904172\n"
     ]
    }
   ],
   "source": [
    "data = tmp_data.copy()\n",
    "data.rename(columns = {'이용시간(분)' : '이용시간'}, inplace = True)\n",
    "data.rename(columns = {'이동거리(M)' : '이동거리'}, inplace = True)\n",
    "data = data[data.이용시간 != 0]\n",
    "data = data[data.이동거리 != 0]\n",
    "data = data.dropna(axis=0)\n",
    "print(len(tmp_data), len(data))"
   ]
  },
  {
   "cell_type": "code",
   "execution_count": 4,
   "id": "1c6a5b51",
   "metadata": {},
   "outputs": [
    {
     "name": "stdout",
     "output_type": "stream",
     "text": [
      "517\n"
     ]
    }
   ],
   "source": [
    "tmp = data['대여일자'].unique()\n",
    "date_list = []\n",
    "weekday_to_date = {}\n",
    "for i in range(len(tmp)):\n",
    "    date_list.append(int(tmp[i].replace('-','')))\n",
    "    if i%7 not in weekday_to_date:\n",
    "        weekday_to_date[i%7] = []\n",
    "    weekday_to_date[i%7].append(tmp[i])\n",
    "print(len(date_list))"
   ]
  },
  {
   "cell_type": "code",
   "execution_count": 5,
   "id": "b875659d",
   "metadata": {},
   "outputs": [],
   "source": [
    "date_to_weekday = dict()\n",
    "for weekday, dates in weekday_to_date.items():\n",
    "    for date in dates:\n",
    "        date_to_weekday[date] = weekday\n",
    "data['요일'] = data['대여일자'].map(date_to_weekday)"
   ]
  },
  {
   "cell_type": "code",
   "execution_count": 6,
   "id": "639d9aca",
   "metadata": {},
   "outputs": [],
   "source": [
    "ph_day_list = ['2023-01-01','2023-01-21','2023-01-22','2023-01-23','2023-01-24','2023-03-01','2023-05-05',\n",
    "                '2023-05-27','2023-05-29','2023-06-06','2023-08-15','2023-09-28','2023-09-29','2023-09-30',\n",
    "                '2023-10-02','2023-10-03','2023-10-09','2023-12-25','2024-01-01','2024-02-09','2024-02-10',\n",
    "                '2024-02-11','2024-02-12','2024-03-01','2024-04-10','2024-05-05','2024-05-06','2024-05-15']\n",
    "\n",
    "date_to_phday = dict()\n",
    "for weekday, dates in weekday_to_date.items():\n",
    "    if weekday == 0 or weekday == 6:\n",
    "        for date in dates:\n",
    "            date_to_phday[date] = 0\n",
    "    else:\n",
    "        for date in dates:\n",
    "            if date in ph_day_list:\n",
    "                date_to_phday[date] = 0\n",
    "            else:\n",
    "                date_to_phday[date] = 1\n",
    "                \n",
    "phday_to_date = dict()\n",
    "for date, phday in date_to_phday.items():\n",
    "    if phday not in phday_to_date:\n",
    "        phday_to_date[phday] = []\n",
    "    phday_to_date[phday].append(date)\n",
    "    \n",
    "data['공휴일'] = data['대여일자'].map(date_to_phday)"
   ]
  },
  {
   "cell_type": "code",
   "execution_count": 7,
   "id": "0b8dde6e",
   "metadata": {},
   "outputs": [],
   "source": [
    "temp = data.dropna(axis=0).groupby('공휴일')['성별'].apply(list).to_dict()"
   ]
  },
  {
   "cell_type": "code",
   "execution_count": 8,
   "id": "5a1064de",
   "metadata": {},
   "outputs": [
    {
     "name": "stdout",
     "output_type": "stream",
     "text": [
      "3828557(0.37462507472086026) 6391146(0.6253749252791397) 10219703 (0.5990407667106963)\n",
      "--------------------------------------------------------------------------------\n",
      "10565387(0.3816358912283996) 17119082(0.6183641087716004) 27684469 (0.6171701847096708)\n",
      "--------------------------------------------------------------------------------\n",
      "14393944 23510228 37904172 37904172\n"
     ]
    }
   ],
   "source": [
    "cnt_tot = 0\n",
    "cnt_f = 0\n",
    "cnt_m = 0\n",
    "g_dict = {0:[], 1:[]}\n",
    "for key in temp.keys():\n",
    "    F = temp[key].count('F')+temp[key].count('f')\n",
    "    g_dict[key].append(F)\n",
    "    cnt_f += F\n",
    "    M = temp[key].count('M')+temp[key].count('m')\n",
    "    g_dict[key].append(M)\n",
    "    cnt_m += M\n",
    "    cnt_tot += len(temp[key])\n",
    "    print(str(F)+'('+str(F/len(temp[key]))+') '+str(M)+'('+str(M/len(temp[key]))+') '+str(len(temp[key]))+' ('+str(F/M)+')')\n",
    "    print('-'*80)\n",
    "print(cnt_f, cnt_m, cnt_tot, cnt_f + cnt_m)"
   ]
  },
  {
   "cell_type": "code",
   "execution_count": 9,
   "id": "ef155f34",
   "metadata": {},
   "outputs": [],
   "source": [
    "import matplotlib.pyplot as plt\n",
    "from matplotlib import font_manager, rc # 폰트 세팅을 위한 모듈 추가\n",
    "font_path = \"C:/Windows/Fonts/malgun.ttf\" # 사용할 폰트명 경로 삽입\n",
    "font = font_manager.FontProperties(fname = font_path).get_name()\n",
    "rc('font', family = font)"
   ]
  },
  {
   "cell_type": "code",
   "execution_count": 10,
   "id": "7465f154",
   "metadata": {
    "scrolled": true
   },
   "outputs": [
    {
     "data": {
      "image/png": "[encoded data removed]",
      "text/plain": [
       "<Figure size 432x288 with 1 Axes>"
      ]
     },
     "metadata": {
      "needs_background": "light"
     },
     "output_type": "display_data"
    },
    {
     "data": {
      "image/png": "[encoded data removed]",
      "text/plain": [
       "<Figure size 432x288 with 1 Axes>"
      ]
     },
     "metadata": {
      "needs_background": "light"
     },
     "output_type": "display_data"
    }
   ],
   "source": [
    "titles = {0:\"공휴일\",1:\"평일\"}\n",
    "for key in sorted(g_dict.keys()):\n",
    "    plt.bar('F',g_dict[key][0])\n",
    "    plt.bar('M',g_dict[key][1])\n",
    "    plt.title(titles[key])\n",
    "    plt.show()"
   ]
  },
  {
   "cell_type": "code",
   "execution_count": 23,
   "id": "ec61b97d",
   "metadata": {
    "scrolled": false
   },
   "outputs": [
    {
     "data": {
      "image/png": "[encoded data removed]",
      "text/plain": [
       "<Figure size 432x288 with 1 Axes>"
      ]
     },
     "metadata": {
      "needs_background": "light"
     },
     "output_type": "display_data"
    },
    {
     "data": {
      "image/png": "[encoded data removed]",
      "text/plain": [
       "<Figure size 432x288 with 1 Axes>"
      ]
     },
     "metadata": {
      "needs_background": "light"
     },
     "output_type": "display_data"
    }
   ],
   "source": [
    "titles = {0:\"공휴일\",1:\"평일\"}\n",
    "for key in sorted(g_dict.keys()):\n",
    "    # 각 성별에 대한 막대 생성\n",
    "    bar_f = plt.bar('F', g_dict[key][0])\n",
    "    bar_m = plt.bar('M', g_dict[key][1])\n",
    "\n",
    "    # 그래프 제목 설정\n",
    "    plt.title(titles[key])\n",
    "\n",
    "    # 각 막대 위에 숫자 표시\n",
    "    plt.text('F', g_dict[key][0] + 2000, str(g_dict[key][0]), ha='center', va='bottom')\n",
    "    plt.text('M', g_dict[key][1] + 2000, str(g_dict[key][1]), ha='center', va='bottom')\n",
    "\n",
    "    plt.ylim(0, max(g_dict[key]) + max(g_dict[key]) *0.1)  # y축 범위 설정\n",
    "    plt.show()"
   ]
  }
 ],
 "metadata": {
  "kernelspec": {
   "display_name": "pytorch",
   "language": "python",
   "name": "pytorch"
  },
  "language_info": {
   "codemirror_mode": {
    "name": "ipython",
    "version": 3
   },
   "file_extension": ".py",
   "mimetype": "text/x-python",
   "name": "python",
   "nbconvert_exporter": "python",
   "pygments_lexer": "ipython3",
   "version": "3.10.4"
  }
 },
 "nbformat": 4,
 "nbformat_minor": 5
}
