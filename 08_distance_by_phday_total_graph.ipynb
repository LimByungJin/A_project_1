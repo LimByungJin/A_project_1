{
 "cells": [
  {
   "cell_type": "code",
   "execution_count": 1,
   "id": "59066f5d",
   "metadata": {},
   "outputs": [],
   "source": [
    "import pandas as pd\n",
    "import time"
   ]
  },
  {
   "cell_type": "code",
   "execution_count": 2,
   "id": "427de40f",
   "metadata": {},
   "outputs": [
    {
     "name": "stderr",
     "output_type": "stream",
     "text": [
      "C:\\Users\\research_01\\AppData\\Local\\Temp\\61\\ipykernel_26772\\1267394010.py:3: DtypeWarning: Columns (9,10) have mixed types. Specify dtype option on import or set low_memory=False.\n",
      "  d2 = pd.read_csv('C:/Users/research_01/pytorch/A_Project_1/by_date/data/이용정보/서울특별시 공공자전거 이용정보(시간대별)_2307-2312.csv')\n"
     ]
    },
    {
     "name": "stdout",
     "output_type": "stream",
     "text": [
      "2.6\n"
     ]
    }
   ],
   "source": [
    "start_time = time.time()\n",
    "d1 = pd.read_csv('C:/Users/research_01/pytorch/A_Project_1/by_date/data/이용정보/서울특별시 공공자전거 이용정보(시간대별)_2301-2306.csv')\n",
    "d2 = pd.read_csv('C:/Users/research_01/pytorch/A_Project_1/by_date/data/이용정보/서울특별시 공공자전거 이용정보(시간대별)_2307-2312.csv')\n",
    "d3 = pd.read_csv('C:/Users/research_01/pytorch/A_Project_1/by_date/data/이용정보/서울특별시 공공자전거 이용정보(시간대별)_2401-2405.csv')\n",
    "tmp_data = pd.concat([d1, d2, d3], ignore_index=True)\n",
    "print(round((time.time() - start_time)/60, 2))"
   ]
  },
  {
   "cell_type": "code",
   "execution_count": 3,
   "id": "2200bc59",
   "metadata": {},
   "outputs": [
    {
     "name": "stdout",
     "output_type": "stream",
     "text": [
      "55032314 37904172\n"
     ]
    }
   ],
   "source": [
    "data = tmp_data.copy()\n",
    "data.rename(columns = {'이용시간(분)' : '이용시간'}, inplace = True)\n",
    "data.rename(columns = {'이동거리(M)' : '이동거리'}, inplace = True)\n",
    "data = data[data.이용시간 != 0]\n",
    "data = data[data.이동거리 != 0]\n",
    "data = data.dropna(axis=0)\n",
    "print(len(tmp_data), len(data))"
   ]
  },
  {
   "cell_type": "code",
   "execution_count": 4,
   "id": "1c6a5b51",
   "metadata": {},
   "outputs": [
    {
     "name": "stdout",
     "output_type": "stream",
     "text": [
      "517\n"
     ]
    }
   ],
   "source": [
    "tmp = data['대여일자'].unique()\n",
    "date_list = []\n",
    "weekday_to_date = {}\n",
    "for i in range(len(tmp)):\n",
    "    date_list.append(int(tmp[i].replace('-','')))\n",
    "    if i%7 not in weekday_to_date:\n",
    "        weekday_to_date[i%7] = []\n",
    "    weekday_to_date[i%7].append(tmp[i])\n",
    "print(len(date_list))"
   ]
  },
  {
   "cell_type": "code",
   "execution_count": 5,
   "id": "b875659d",
   "metadata": {},
   "outputs": [],
   "source": [
    "date_to_weekday = dict()\n",
    "for weekday, dates in weekday_to_date.items():\n",
    "    for date in dates:\n",
    "        date_to_weekday[date] = weekday\n",
    "data['요일'] = data['대여일자'].map(date_to_weekday)"
   ]
  },
  {
   "cell_type": "code",
   "execution_count": 6,
   "id": "639d9aca",
   "metadata": {},
   "outputs": [],
   "source": [
    "ph_day_list = ['2023-01-01','2023-01-21','2023-01-22','2023-01-23','2023-01-24','2023-03-01','2023-05-05',\n",
    "                '2023-05-27','2023-05-29','2023-06-06','2023-08-15','2023-09-28','2023-09-29','2023-09-30',\n",
    "                '2023-10-02','2023-10-03','2023-10-09','2023-12-25','2024-01-01','2024-02-09','2024-02-10',\n",
    "                '2024-02-11','2024-02-12','2024-03-01','2024-04-10','2024-05-05','2024-05-06','2024-05-15']\n",
    "\n",
    "date_to_phday = dict()\n",
    "for weekday, dates in weekday_to_date.items():\n",
    "    if weekday == 0 or weekday == 6:\n",
    "        for date in dates:\n",
    "            date_to_phday[date] = 0\n",
    "    else:\n",
    "        for date in dates:\n",
    "            if date in ph_day_list:\n",
    "                date_to_phday[date] = 0\n",
    "            else:\n",
    "                date_to_phday[date] = 1\n",
    "                \n",
    "phday_to_date = dict()\n",
    "for date, phday in date_to_phday.items():\n",
    "    if phday not in phday_to_date:\n",
    "        phday_to_date[phday] = []\n",
    "    phday_to_date[phday].append(date)\n",
    "    \n",
    "data['공휴일'] = data['대여일자'].map(date_to_phday)"
   ]
  },
  {
   "cell_type": "code",
   "execution_count": 7,
   "id": "0b8dde6e",
   "metadata": {},
   "outputs": [],
   "source": [
    "tmp = data.groupby(['공휴일'])['이동거리'].apply(list).to_dict()"
   ]
  },
  {
   "cell_type": "code",
   "execution_count": 8,
   "id": "5294a0c9",
   "metadata": {},
   "outputs": [
    {
     "name": "stdout",
     "output_type": "stream",
     "text": [
      "0\n",
      " 307412.44 /    3100.91 /       0.10\n",
      "----------------------------------------\n",
      "1\n",
      " 693418.03 /    2618.39 /       0.10\n",
      "----------------------------------------\n",
      "37904172 37904172\n"
     ]
    }
   ],
   "source": [
    "cnt = 0\n",
    "for key in tmp.keys():\n",
    "    print(key)\n",
    "    print(\"{0:10.2f} / {1:10.2f} / {2:10.2f}\".format(max(tmp[key]), round(sum(tmp[key]) / len(tmp[key]), 2), min(tmp[key])))\n",
    "    cnt += len(tmp[key])\n",
    "    print('-'*40)\n",
    "print(cnt, len(data))"
   ]
  },
  {
   "cell_type": "code",
   "execution_count": 9,
   "id": "947eb7b8",
   "metadata": {},
   "outputs": [],
   "source": [
    "import matplotlib.pyplot as plt\n",
    "from matplotlib import font_manager, rc # 폰트 세팅을 위한 모듈 추가\n",
    "font_path = \"C:/Windows/Fonts/malgun.ttf\" # 사용할 폰트명 경로 삽입\n",
    "font = font_manager.FontProperties(fname = font_path).get_name()\n",
    "rc('font', family = font)\n",
    "import numpy as np\n",
    "\n",
    "index = np.arange(2)\n",
    "labels = ['phday', 'nday']"
   ]
  },
  {
   "cell_type": "code",
   "execution_count": 10,
   "id": "aa051797",
   "metadata": {},
   "outputs": [
    {
     "data": {
      "image/png": "[encoded data removed]",
      "text/plain": [
       "<Figure size 864x576 with 1 Axes>"
      ]
     },
     "metadata": {
      "needs_background": "light"
     },
     "output_type": "display_data"
    }
   ],
   "source": [
    "plt.figure(figsize=(12,8))\n",
    "plt.boxplot([tmp[0], tmp[1]])\n",
    "plt.xticks([1, 2],labels)\n",
    "plt.show()"
   ]
  },
  {
   "cell_type": "code",
   "execution_count": 11,
   "id": "4a94be83",
   "metadata": {},
   "outputs": [
    {
     "data": {
      "text/plain": [
       "<Figure size 864x576 with 0 Axes>"
      ]
     },
     "metadata": {},
     "output_type": "display_data"
    },
    {
     "data": {
      "image/png": "[encoded data removed]",
      "text/plain": [
       "<Figure size 432x288 with 1 Axes>"
      ]
     },
     "metadata": {
      "needs_background": "light"
     },
     "output_type": "display_data"
    }
   ],
   "source": [
    "plt.figure(figsize=(12,8))\n",
    "#plt.boxplot([tmp[0], tmp[1], tmp[2], tmp[3], tmp[4], tmp[5], tmp[6]])\n",
    "fig, ax = plt.subplots()\n",
    "#box = ax.boxplot([tmp[0], tmp[1], tmp[2], tmp[3], tmp[4], tmp[5], tmp[6]], notch=True, whis=1.5)\n",
    "box = ax.boxplot([tmp[0], tmp[1]])\n",
    "\n",
    "plt.xticks([1, 2],labels)\n",
    "plt.ylim(-1000, 10000)\n",
    "whiskers = [item.get_ydata() for item in box['whiskers']]\n",
    "medians = [item.get_ydata() for item in box['medians']]\n",
    "fliers = [item.get_ydata() for item in box['fliers']]\n",
    "plt.show()"
   ]
  },
  {
   "cell_type": "code",
   "execution_count": 12,
   "id": "b19791b6",
   "metadata": {},
   "outputs": [
    {
     "data": {
      "text/plain": [
       "[array([9.7788e+02, 1.0000e-01]),\n",
       " array([3500.  , 7283.18]),\n",
       " array([9.1074e+02, 1.0000e-01]),\n",
       " array([2980.  , 6083.89])]"
      ]
     },
     "execution_count": 12,
     "metadata": {},
     "output_type": "execute_result"
    }
   ],
   "source": [
    "whiskers"
   ]
  },
  {
   "cell_type": "code",
   "execution_count": 13,
   "id": "7fb83572",
   "metadata": {},
   "outputs": [
    {
     "data": {
      "text/plain": [
       "[array([1746., 1746.]), array([1590., 1590.])]"
      ]
     },
     "execution_count": 13,
     "metadata": {},
     "output_type": "execute_result"
    }
   ],
   "source": [
    "medians"
   ]
  },
  {
   "cell_type": "code",
   "execution_count": 14,
   "id": "671a60d6",
   "metadata": {},
   "outputs": [
    {
     "name": "stdout",
     "output_type": "stream",
     "text": [
      "999050 10219703 0.09775724402167069\n",
      "2471843 27684469 0.08928627094129925\n"
     ]
    }
   ],
   "source": [
    "for i in range(2):\n",
    "    print(len(fliers[i]), len(tmp[i]), len(fliers[i])/len(tmp[i]))"
   ]
  }
 ],
 "metadata": {
  "kernelspec": {
   "display_name": "pytorch",
   "language": "python",
   "name": "pytorch"
  },
  "language_info": {
   "codemirror_mode": {
    "name": "ipython",
    "version": 3
   },
   "file_extension": ".py",
   "mimetype": "text/x-python",
   "name": "python",
   "nbconvert_exporter": "python",
   "pygments_lexer": "ipython3",
   "version": "3.10.4"
  }
 },
 "nbformat": 4,
 "nbformat_minor": 5
}
