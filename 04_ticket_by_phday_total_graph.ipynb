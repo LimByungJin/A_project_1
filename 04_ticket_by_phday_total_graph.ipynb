{
 "cells": [
  {
   "cell_type": "code",
   "execution_count": 1,
   "id": "59066f5d",
   "metadata": {},
   "outputs": [],
   "source": [
    "import pandas as pd\n",
    "import time"
   ]
  },
  {
   "cell_type": "code",
   "execution_count": 2,
   "id": "427de40f",
   "metadata": {},
   "outputs": [
    {
     "name": "stderr",
     "output_type": "stream",
     "text": [
      "C:\\Users\\research_01\\AppData\\Local\\Temp\\61\\ipykernel_3604\\1267394010.py:3: DtypeWarning: Columns (9,10) have mixed types. Specify dtype option on import or set low_memory=False.\n",
      "  d2 = pd.read_csv('C:/Users/research_01/pytorch/A_Project_1/by_date/data/이용정보/서울특별시 공공자전거 이용정보(시간대별)_2307-2312.csv')\n"
     ]
    },
    {
     "name": "stdout",
     "output_type": "stream",
     "text": [
      "3.15\n"
     ]
    }
   ],
   "source": [
    "start_time = time.time()\n",
    "d1 = pd.read_csv('C:/Users/research_01/pytorch/A_Project_1/by_date/data/이용정보/서울특별시 공공자전거 이용정보(시간대별)_2301-2306.csv')\n",
    "d2 = pd.read_csv('C:/Users/research_01/pytorch/A_Project_1/by_date/data/이용정보/서울특별시 공공자전거 이용정보(시간대별)_2307-2312.csv')\n",
    "d3 = pd.read_csv('C:/Users/research_01/pytorch/A_Project_1/by_date/data/이용정보/서울특별시 공공자전거 이용정보(시간대별)_2401-2405.csv')\n",
    "tmp_data = pd.concat([d1, d2, d3], ignore_index=True)\n",
    "print(round((time.time() - start_time)/60, 2))"
   ]
  },
  {
   "cell_type": "code",
   "execution_count": 3,
   "id": "2200bc59",
   "metadata": {},
   "outputs": [
    {
     "name": "stdout",
     "output_type": "stream",
     "text": [
      "55032314 37904172\n"
     ]
    }
   ],
   "source": [
    "data = tmp_data.copy()\n",
    "data.rename(columns = {'이용시간(분)' : '이용시간'}, inplace = True)\n",
    "data.rename(columns = {'이동거리(M)' : '이동거리'}, inplace = True)\n",
    "data = data[data.이용시간 != 0]\n",
    "data = data[data.이동거리 != 0]\n",
    "data = data.dropna(axis=0)\n",
    "print(len(tmp_data), len(data))"
   ]
  },
  {
   "cell_type": "code",
   "execution_count": 4,
   "id": "1c6a5b51",
   "metadata": {},
   "outputs": [
    {
     "name": "stdout",
     "output_type": "stream",
     "text": [
      "517\n"
     ]
    }
   ],
   "source": [
    "tmp = data['대여일자'].unique()\n",
    "date_list = []\n",
    "weekday_to_date = {}\n",
    "for i in range(len(tmp)):\n",
    "    date_list.append(int(tmp[i].replace('-','')))\n",
    "    if i%7 not in weekday_to_date:\n",
    "        weekday_to_date[i%7] = []\n",
    "    weekday_to_date[i%7].append(tmp[i])\n",
    "print(len(date_list))"
   ]
  },
  {
   "cell_type": "code",
   "execution_count": 5,
   "id": "b875659d",
   "metadata": {},
   "outputs": [],
   "source": [
    "date_to_weekday = dict()\n",
    "for weekday, dates in weekday_to_date.items():\n",
    "    for date in dates:\n",
    "        date_to_weekday[date] = weekday\n",
    "data['요일'] = data['대여일자'].map(date_to_weekday)"
   ]
  },
  {
   "cell_type": "code",
   "execution_count": 6,
   "id": "639d9aca",
   "metadata": {},
   "outputs": [],
   "source": [
    "ph_day_list = ['2023-01-01','2023-01-21','2023-01-22','2023-01-23','2023-01-24','2023-03-01','2023-05-05',\n",
    "                '2023-05-27','2023-05-29','2023-06-06','2023-08-15','2023-09-28','2023-09-29','2023-09-30',\n",
    "                '2023-10-02','2023-10-03','2023-10-09','2023-12-25','2024-01-01','2024-02-09','2024-02-10',\n",
    "                '2024-02-11','2024-02-12','2024-03-01','2024-04-10','2024-05-05','2024-05-06','2024-05-15']\n",
    "\n",
    "date_to_phday = dict()\n",
    "for weekday, dates in weekday_to_date.items():\n",
    "    if weekday == 0 or weekday == 6:\n",
    "        for date in dates:\n",
    "            date_to_phday[date] = 0\n",
    "    else:\n",
    "        for date in dates:\n",
    "            if date in ph_day_list:\n",
    "                date_to_phday[date] = 0\n",
    "            else:\n",
    "                date_to_phday[date] = 1\n",
    "                \n",
    "phday_to_date = dict()\n",
    "for date, phday in date_to_phday.items():\n",
    "    if phday not in phday_to_date:\n",
    "        phday_to_date[phday] = []\n",
    "    phday_to_date[phday].append(date)\n",
    "    \n",
    "data['공휴일'] = data['대여일자'].map(date_to_phday)"
   ]
  },
  {
   "cell_type": "code",
   "execution_count": 7,
   "id": "0b8dde6e",
   "metadata": {},
   "outputs": [],
   "source": [
    "temp = data.groupby('공휴일')['대여구분코드'].apply(list).to_dict()"
   ]
  },
  {
   "cell_type": "code",
   "execution_count": 8,
   "id": "64c30d36",
   "metadata": {},
   "outputs": [],
   "source": [
    "ticket_dict = dict()\n",
    "for key in temp.keys():\n",
    "    if key not in ticket_dict:\n",
    "        ticket_dict[key] = dict()\n",
    "    for val in temp[key]:\n",
    "        if val not in ticket_dict[key]:\n",
    "            ticket_dict[key][val] = 0\n",
    "        ticket_dict[key][val] += 1"
   ]
  },
  {
   "cell_type": "code",
   "execution_count": 9,
   "id": "69cdc202",
   "metadata": {},
   "outputs": [],
   "source": [
    "avg_ticket_dict = dict()\n",
    "for key in temp.keys():\n",
    "    if key not in avg_ticket_dict:\n",
    "        avg_ticket_dict[key] = dict()\n",
    "    for val in temp[key]:\n",
    "        if val not in avg_ticket_dict[key]:\n",
    "            avg_ticket_dict[key][val] = 0\n",
    "        avg_ticket_dict[key][val] += 1\n",
    "\n",
    "for key in avg_ticket_dict.keys():\n",
    "    for k in avg_ticket_dict[key].keys():\n",
    "        avg_ticket_dict[key][k] /= len(phday_to_date[key])"
   ]
  },
  {
   "cell_type": "code",
   "execution_count": 10,
   "id": "86f31585",
   "metadata": {},
   "outputs": [
    {
     "data": {
      "text/plain": [
       "{0: {'정기권': 7611125, '일일권': 2601294, '단체권': 5031, '일일권(비회원)': 2253},\n",
       " 1: {'정기권': 23909949, '일일권': 3767420, '단체권': 4577, '일일권(비회원)': 2523}}"
      ]
     },
     "execution_count": 10,
     "metadata": {},
     "output_type": "execute_result"
    }
   ],
   "source": [
    "ticket_dict"
   ]
  },
  {
   "cell_type": "code",
   "execution_count": 11,
   "id": "a978b78f",
   "metadata": {},
   "outputs": [
    {
     "data": {
      "text/plain": [
       "{0: {'정기권': 45575.59880239521,\n",
       "  '일일권': 15576.610778443113,\n",
       "  '단체권': 30.12574850299401,\n",
       "  '일일권(비회원)': 13.491017964071856},\n",
       " 1: {'정기권': 68314.14,\n",
       "  '일일권': 10764.057142857142,\n",
       "  '단체권': 13.077142857142857,\n",
       "  '일일권(비회원)': 7.208571428571428}}"
      ]
     },
     "execution_count": 11,
     "metadata": {},
     "output_type": "execute_result"
    }
   ],
   "source": [
    "avg_ticket_dict"
   ]
  },
  {
   "cell_type": "code",
   "execution_count": 12,
   "id": "90d7f571",
   "metadata": {},
   "outputs": [],
   "source": [
    "import matplotlib.pyplot as plt\n",
    "from matplotlib import font_manager, rc # 폰트 세팅을 위한 모듈 추가\n",
    "font_path = \"C:/Windows/Fonts/malgun.ttf\" # 사용할 폰트명 경로 삽입\n",
    "font = font_manager.FontProperties(fname = font_path).get_name()\n",
    "rc('font', family = font)"
   ]
  },
  {
   "cell_type": "code",
   "execution_count": 13,
   "id": "602a6935",
   "metadata": {},
   "outputs": [],
   "source": [
    "labels = avg_ticket_dict[0].keys()"
   ]
  },
  {
   "cell_type": "code",
   "execution_count": 14,
   "id": "6b520239",
   "metadata": {
    "scrolled": true
   },
   "outputs": [
    {
     "data": {
      "image/png": "[encoded data removed]",
      "text/plain": [
       "<Figure size 432x288 with 1 Axes>"
      ]
     },
     "metadata": {
      "needs_background": "light"
     },
     "output_type": "display_data"
    },
    {
     "data": {
      "image/png": "[encoded data removed]",
      "text/plain": [
       "<Figure size 432x288 with 1 Axes>"
      ]
     },
     "metadata": {
      "needs_background": "light"
     },
     "output_type": "display_data"
    },
    {
     "data": {
      "image/png": "[encoded data removed]",
      "text/plain": [
       "<Figure size 432x288 with 1 Axes>"
      ]
     },
     "metadata": {
      "needs_background": "light"
     },
     "output_type": "display_data"
    },
    {
     "data": {
      "image/png": "[encoded data removed]",
      "text/plain": [
       "<Figure size 432x288 with 1 Axes>"
      ]
     },
     "metadata": {
      "needs_background": "light"
     },
     "output_type": "display_data"
    }
   ],
   "source": [
    "for ticket_label in labels:\n",
    "    plt.bar('공휴일',avg_ticket_dict[0][ticket_label])\n",
    "    plt.bar('평일',avg_ticket_dict[1][ticket_label])\n",
    "    plt.title(ticket_label)\n",
    "    plt.show()"
   ]
  },
  {
   "cell_type": "code",
   "execution_count": 20,
   "id": "0cc8a614",
   "metadata": {
    "scrolled": true
   },
   "outputs": [
    {
     "data": {
      "image/png": "[encoded data removed]",
      "text/plain": [
       "<Figure size 432x288 with 1 Axes>"
      ]
     },
     "metadata": {
      "needs_background": "light"
     },
     "output_type": "display_data"
    },
    {
     "data": {
      "image/png": "[encoded data removed]",
      "text/plain": [
       "<Figure size 432x288 with 1 Axes>"
      ]
     },
     "metadata": {
      "needs_background": "light"
     },
     "output_type": "display_data"
    },
    {
     "data": {
      "image/png": "[encoded data removed]",
      "text/plain": [
       "<Figure size 432x288 with 1 Axes>"
      ]
     },
     "metadata": {
      "needs_background": "light"
     },
     "output_type": "display_data"
    },
    {
     "data": {
      "image/png": "[encoded data removed]",
      "text/plain": [
       "<Figure size 432x288 with 1 Axes>"
      ]
     },
     "metadata": {
      "needs_background": "light"
     },
     "output_type": "display_data"
    }
   ],
   "source": [
    "for ticket_label in labels:\n",
    "    plt.bar('공휴일',avg_ticket_dict[0][ticket_label])\n",
    "    plt.text('공휴일', avg_ticket_dict[0][ticket_label] + 0.025*avg_ticket_dict[0][ticket_label], str(avg_ticket_dict[0][ticket_label]), ha='center', va='bottom')\n",
    "    plt.bar('평일',avg_ticket_dict[1][ticket_label])\n",
    "    plt.text('평일', avg_ticket_dict[1][ticket_label] + 0.025*avg_ticket_dict[1][ticket_label], str(avg_ticket_dict[1][ticket_label]), ha='center', va='bottom')\n",
    "    plt.title(ticket_label)\n",
    "    m = max(avg_ticket_dict[0][ticket_label], avg_ticket_dict[1][ticket_label])\n",
    "    plt.ylim(0,  m + 0.1*m)\n",
    "    plt.show()"
   ]
  }
 ],
 "metadata": {
  "kernelspec": {
   "display_name": "pytorch",
   "language": "python",
   "name": "pytorch"
  },
  "language_info": {
   "codemirror_mode": {
    "name": "ipython",
    "version": 3
   },
   "file_extension": ".py",
   "mimetype": "text/x-python",
   "name": "python",
   "nbconvert_exporter": "python",
   "pygments_lexer": "ipython3",
   "version": "3.10.4"
  }
 },
 "nbformat": 4,
 "nbformat_minor": 5
}
